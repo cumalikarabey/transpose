{
 "cells": [
  {
   "cell_type": "markdown",
   "id": "fa996009",
   "metadata": {},
   "source": [
    "# Input  Number of the Matrix"
   ]
  },
  {
   "cell_type": "code",
   "execution_count": 47,
   "id": "59911192",
   "metadata": {},
   "outputs": [
    {
     "name": "stdout",
     "output_type": "stream",
     "text": [
      "Row dimension: 4\n",
      "Col dimension: 2\n",
      "1. row 1. number: 11\n",
      "1. row 2. number: 12\n",
      "2. row 1. number: 21\n",
      "2. row 2. number: 22\n",
      "3. row 1. number: 31\n",
      "3. row 2. number: 32\n",
      "4. row 1. number: 41\n",
      "4. row 2. number: 42\n"
     ]
    }
   ],
   "source": [
    "import numpy  as np\n",
    "\n",
    "row = int(input(\"Row dimension: \"))\n",
    "col = int(input(\"Col dimension: \"))\n",
    "\n",
    "count_1 = 1\n",
    "count = 1\n",
    "\n",
    "universe = []\n",
    "\n",
    "while count_1 < row+1:\n",
    "    empty = []\n",
    "    \n",
    "    while count < col+1:\n",
    "        x = int(input(f\"{count_1}. row {count}. number: \"))\n",
    "        empty.append(x)\n",
    "        count += 1\n",
    "        \n",
    "        \n",
    "    universe.append(empty)\n",
    "    count_1 += 1\n",
    "    count = 1"
   ]
  },
  {
   "cell_type": "markdown",
   "id": "1eeff7e1",
   "metadata": {},
   "source": [
    "# Tranpose Operation"
   ]
  },
  {
   "cell_type": "code",
   "execution_count": 51,
   "id": "3dfa0653",
   "metadata": {},
   "outputs": [],
   "source": [
    "row = row - 1\n",
    "count_c = col\n",
    "t_uni = []\n",
    "\n",
    "for i in range(count_c):\n",
    "    count = row\n",
    "    empty = []\n",
    "    \n",
    "    while count != -1:\n",
    "        x = universe[count][i]\n",
    "        empty.append(x)\n",
    "        count -= 1\n",
    "    \n",
    "    t_uni.append(empty)\n",
    "    "
   ]
  },
  {
   "cell_type": "code",
   "execution_count": 50,
   "id": "d54af1ac",
   "metadata": {},
   "outputs": [
    {
     "data": {
      "text/plain": [
       "([[11, 12], [21, 22], [31, 32], [41, 42]],\n",
       " [[41, 31, 21, 11], [42, 32, 22, 12]])"
      ]
     },
     "execution_count": 50,
     "metadata": {},
     "output_type": "execute_result"
    }
   ],
   "source": [
    "universe, t_uni"
   ]
  }
 ],
 "metadata": {
  "kernelspec": {
   "display_name": "Python 3 (ipykernel)",
   "language": "python",
   "name": "python3"
  },
  "language_info": {
   "codemirror_mode": {
    "name": "ipython",
    "version": 3
   },
   "file_extension": ".py",
   "mimetype": "text/x-python",
   "name": "python",
   "nbconvert_exporter": "python",
   "pygments_lexer": "ipython3",
   "version": "3.9.12"
  }
 },
 "nbformat": 4,
 "nbformat_minor": 5
}
